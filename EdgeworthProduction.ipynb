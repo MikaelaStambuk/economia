{
  "nbformat": 4,
  "nbformat_minor": 0,
  "metadata": {
    "hide_input": false,
    "kernelspec": {
      "display_name": "Python [default]",
      "language": "python",
      "name": "python3"
    },
    "language_info": {
      "codemirror_mode": {
        "name": "ipython",
        "version": 3
      },
      "file_extension": ".py",
      "mimetype": "text/x-python",
      "name": "python",
      "nbconvert_exporter": "python",
      "pygments_lexer": "ipython3",
      "version": "3.6.6"
    },
    "toc": {
      "colors": {
        "hover_highlight": "#DAA520",
        "navigate_num": "#000000",
        "navigate_text": "#333333",
        "running_highlight": "#FF0000",
        "selected_highlight": "#FFD700",
        "sidebar_border": "#EEEEEE",
        "wrapper_background": "#FFFFFF"
      },
      "moveMenuLeft": true,
      "nav_menu": {
        "height": "155px",
        "width": "252px"
      },
      "navigate_menu": true,
      "number_sections": false,
      "sideBar": true,
      "threshold": 4,
      "toc_cell": false,
      "toc_section_display": "none",
      "toc_window_display": true,
      "widenNotebook": false
    },
    "varInspector": {
      "cols": {
        "lenName": 16,
        "lenType": 16,
        "lenVar": 40
      },
      "kernels_config": {
        "python": {
          "delete_cmd_postfix": "",
          "delete_cmd_prefix": "del ",
          "library": "var_list.py",
          "varRefreshCmd": "print(var_dic_list())"
        },
        "r": {
          "delete_cmd_postfix": ") ",
          "delete_cmd_prefix": "rm(",
          "library": "var_list.r",
          "varRefreshCmd": "cat(var_dic_list()) "
        }
      },
      "types_to_exclude": [
        "module",
        "function",
        "builtin_function_or_method",
        "instance",
        "_Feature"
      ],
      "window_display": true
    },
    "colab": {
      "name": "EdgeworthProduction.ipynb",
      "provenance": [],
      "collapsed_sections": [],
      "include_colab_link": true
    }
  },
  "cells": [
    {
      "cell_type": "markdown",
      "metadata": {
        "id": "view-in-github",
        "colab_type": "text"
      },
      "source": [
        "<a href=\"https://colab.research.google.com/github/mika1513/economia/blob/main/EdgeworthProduction.ipynb\" target=\"_parent\"><img src=\"https://colab.research.google.com/assets/colab-badge.svg\" alt=\"Open In Colab\"/></a>"
      ]
    },
    {
      "cell_type": "markdown",
      "metadata": {
        "id": "YUsitvuJ6V6j"
      },
      "source": [
        "# Production Possiblity Frontier (PPF)\n",
        "\n",
        "based on [Conning - Development Economics Lectures - CUNY 2018](https://dev-ii-seminar.readthedocs.io/en/latest/notebooks/EdgeworthProduction.html?highlight=edgeplot#)\n",
        "\n",
        "We configure, first, the python environment:"
      ]
    },
    {
      "cell_type": "code",
      "metadata": {
        "id": "a86425JnFyvm"
      },
      "source": [
        "%matplotlib inline\n",
        "import matplotlib.pyplot as plt\n",
        "import numpy as np\n",
        "from ipywidgets import interact, fixed"
      ],
      "execution_count": 2,
      "outputs": []
    },
    {
      "cell_type": "markdown",
      "metadata": {
        "id": "DHm1jX8jGd9U"
      },
      "source": [
        "We start with a model of two productive sectors: Agriculture and Manufacturing. Both productive sectors use capital and labor as inputs of their technologies. The capital-intensities parameters are $\\alpha\\in(0,1)$ and $\\beta\\in(0,1)$ for agriculture and manufacturing respectively.\n",
        "\n",
        "We assume that there is a total amount of $\\overline{K}$ of capital and $\\overline{L}$ of labor available for both productive processes.\n",
        "\n",
        "Next, we import some functions required to define the PPF curve:"
      ]
    },
    {
      "cell_type": "code",
      "metadata": {
        "id": "A-gtPfc7GsQ_"
      },
      "source": [
        "# initial parameters\n",
        "ALPHA = 0.8   # capital share in agriculture\n",
        "BETA = 0.4   # capital share in manufacturing\n",
        "KBAR = 100  # Total capital supply\n",
        "LBAR = 100  # Total labor supply\n",
        "p = 1      # =Pa/Pm  relative price of ag goods\n",
        "\n",
        "def F(K,L,alpha=ALPHA):\n",
        "    \"\"\"Agriculture Production function\"\"\"\n",
        "    return (K**alpha)*(L**(1-alpha))\n",
        "\n",
        "def G(K,L,beta=BETA):\n",
        "    \"\"\"Manufacturing Production function\"\"\"\n",
        "    return (K**beta)*(L**(1-beta))\n",
        "\n",
        "def budgetc(c1, p1, p2, I):\n",
        "    return (I/p2)-(p1/p2)*c1\n",
        "\n",
        "def isoq(L, Q, mu):\n",
        "    return (Q/(L**(1-mu)))**(1/mu)\n",
        "\n",
        "def edgeworth(L, Kbar=KBAR, Lbar=LBAR,alpha=ALPHA, beta=BETA):\n",
        "    \"\"\"efficiency locus: \"\"\"\n",
        "    a = (1-alpha)/alpha\n",
        "    b = (1-beta)/beta\n",
        "    return b*L*Kbar/(a*(Lbar-L)+b*L)\n",
        "\n",
        "def edgeplot(LA, Kbar=KBAR, Lbar=LBAR,alpha=ALPHA,beta=BETA):\n",
        "    \"\"\"Draw an edgeworth box\n",
        "    \n",
        "    arguments:\n",
        "    LA -- labor allocated to ag, from which calculate QA(Ka(La),La) \n",
        "    \"\"\"\n",
        "    KA = edgeworth(LA, Kbar, Lbar,alpha, beta)\n",
        "    RTS = (alpha/(1-alpha))*(KA/LA)\n",
        "    QA = F(KA,LA,alpha)\n",
        "    QM = G(Kbar-KA,Lbar-LA,beta)\n",
        "    print(\"(LA,KA)=({:4.1f}, {:4.1f})  (QA, QM)=({:4.1f}, {:4.1f})  RTS={:4.1f}\"\n",
        "          .format(LA,KA,QA,QM,RTS))\n",
        "    La = np.arange(1,Lbar)\n",
        "    fig, ax = plt.subplots(figsize=(7,6))\n",
        "    ax.set_xlim(0, Lbar)\n",
        "    ax.set_ylim(0, Kbar)\n",
        "    ax.plot(La, edgeworth(La,Kbar,Lbar,alpha,beta),'k-')\n",
        "    #ax.plot(La, La,'k--')\n",
        "    ax.plot(La, isoq(La, QA, alpha))\n",
        "    ax.plot(La, Kbar-isoq(Lbar-La, QM, beta),'g-')\n",
        "    ax.plot(LA, KA,'ob')\n",
        "    ax.vlines(LA,0,KA, linestyles=\"dashed\")\n",
        "    ax.hlines(KA,0,LA, linestyles=\"dashed\")\n",
        "    ax.text(-6,-6,r'$O_A$',fontsize=16)\n",
        "    ax.text(Lbar,Kbar,r'$O_M$',fontsize=16)\n",
        "    ax.set_xlabel(r'$L_A -- Labor$', fontsize=16)\n",
        "    ax.set_ylabel('$K_A - Capital$', fontsize=16)\n",
        "    #plt.show()\n",
        "\n",
        "def ppf(LA,Kbar=KBAR, Lbar=LBAR,alpha=ALPHA,beta=BETA):\n",
        "    \"\"\"Draw a production possibility frontier\n",
        "    \n",
        "    arguments:\n",
        "    LA -- labor allocated to ag, from which calculate QA(Ka(La),La) \n",
        "    \"\"\"\n",
        "    KA = edgeworth(LA, Kbar, Lbar,alpha, beta)\n",
        "    RTS = (alpha/(1-alpha))*(KA/LA)\n",
        "    QA = F( KA,LA,alpha)\n",
        "    QM = G(Kbar-KA,Lbar-LA,beta)\n",
        "    ax.scatter(QA,QM)\n",
        "    La = np.arange(0,Lbar)\n",
        "    Ka = edgeworth(La, Kbar, Lbar,alpha, beta)\n",
        "    Qa = F(Ka,La,alpha)\n",
        "    Qm = G(Kbar-Ka,Lbar-La,beta)\n",
        "    ax.set_xlim(0, Lbar)\n",
        "    ax.set_ylim(0, Kbar)\n",
        "    ax.plot(Qa, Qm,'k-')\n",
        "    ax.set_xlabel(r'$Q_A$',fontsize=18)\n",
        "    ax.set_ylabel(r'$Q_M$',fontsize=18)\n",
        "    plt.show()"
      ],
      "execution_count": 1,
      "outputs": []
    },
    {
      "cell_type": "markdown",
      "metadata": {
        "id": "8xKZx_luHg4j"
      },
      "source": [
        "Our simple model define an economy with $\\alpha=0.6$, $\\beta=0.4$ and inputs supplies equal to: $\\overline{K}=100$ and $\\overline{L}=100$. For the chilean case, the Central Bank proposes an estimation around 0.5 [Banco Central (2017) Anexo II.1 page 71.](https://www.bcentral.cl/documents/33528/1325580/crecimiento_tendencial_sep2017.pdf/4a8878cf-a68b-caa3-0372-49b55032211d?t=1573288037550) "
      ]
    },
    {
      "cell_type": "code",
      "metadata": {
        "id": "LGbNSQXxHIo8"
      },
      "source": [
        "ALPHA = 0.8   # capital share in agriculture\n",
        "BETA = 0.4   # capital share in manufacturing\n",
        "KBAR = 100  # Total capital supply\n",
        "LBAR = 100  # Total labor supply"
      ],
      "execution_count": 5,
      "outputs": []
    },
    {
      "cell_type": "markdown",
      "metadata": {
        "id": "VGkd3xcrJfw0"
      },
      "source": [
        "In what follows we draw the Production Possiblity Frontier (PPF) for an exogenous allocation of $L_A=30$. That is, since $L_A+L_M=\\overline{L}=100$, we have $L_M=70$. The variables $K_A$ and $K_M$ are calculated according to optimality of the production technologies of each sector."
      ]
    },
    {
      "cell_type": "code",
      "metadata": {
        "id": "bXfO70b5JwLy",
        "colab": {
          "base_uri": "https://localhost:8080/",
          "height": 402
        },
        "outputId": "5cbb702e-b3a7-4b9d-863b-5f7fdc7096c6"
      },
      "source": [
        "fig, ax = plt.subplots(figsize=(7,6))\n",
        "ppf(30,alpha=0.75,beta=0.56)"
      ],
      "execution_count": 3,
      "outputs": [
        {
          "output_type": "display_data",
          "data": {
            "text/plain": [
              "<Figure size 504x432 with 1 Axes>"
            ],
            "image/png": "[encoded data removed]"
          },
          "metadata": {
            "needs_background": "light"
          }
        }
      ]
    },
    {
      "cell_type": "markdown",
      "metadata": {
        "id": "5l0F6aNuK0HR"
      },
      "source": [
        "Suppose that capital intensities are different. For instance, $\\alpha=0.8$ and $\\beta=0.2$. The PPF appears to be more \"book\" likely."
      ]
    },
    {
      "cell_type": "code",
      "metadata": {
        "colab": {
          "base_uri": "https://localhost:8080/",
          "height": 402
        },
        "id": "wsj_oDgWK4V5",
        "outputId": "296109cc-8b21-467c-c5ca-239e528df7e2"
      },
      "source": [
        "fig, ax = plt.subplots(figsize=(7,6))\n",
        "ppf(30,alpha =0.8, beta=0.2)"
      ],
      "execution_count": 20,
      "outputs": [
        {
          "output_type": "display_data",
          "data": {
            "text/plain": [
              "<Figure size 504x432 with 1 Axes>"
            ],
            "image/png": "[encoded data removed]"
          },
          "metadata": {
            "needs_background": "light"
          }
        }
      ]
    },
    {
      "cell_type": "markdown",
      "metadata": {
        "id": "yzL6N0ZmLTUW"
      },
      "source": [
        "# Model behind"
      ]
    },
    {
      "cell_type": "markdown",
      "metadata": {
        "id": "UHSPk0_D6V6m"
      },
      "source": [
        "## Efficiency in production"
      ]
    },
    {
      "cell_type": "markdown",
      "metadata": {
        "id": "PN_QFl5h6V6n"
      },
      "source": [
        "Consider a small-open economy with two production sectors -- agriculture and manufacturing -- with production in each sector taking place with constant returns to scale production functions.  Producers in the agricultural sector maximize profits\n",
        "\n",
        "$$\\max_{K_A,L_A} p_A F(K_A,L_A) - w L_A - r K_A$$\n",
        "\n",
        "And producers in manufacturing similarly maximize\n",
        "\n",
        "$$\\max_{K_M,L_M} p_M G(K_M,L_M) - w L_M - r K_M$$\n",
        "\n",
        "In equilibrium total factor demands must equal total supplies:\n",
        "\n",
        "$$K_A + K_M = \\bar K$$\n",
        "\n",
        "$$L_A + L_M = \\bar L$$ \n",
        "\n",
        "The first order necessary conditions for an interior optimum in each sector lead to an equilibrium where the following condition must hold:\n",
        "\n",
        "$$\\frac{F_L(K_A,L_A)}{F_K(K_A,L_A)} = \\frac{w}{r} \n",
        "       =\\frac{G_L(\\bar K-K_A,\\bar L- L_A)}{F_K(\\bar K-K_A,\\bar L- L_A)} $$"
      ]
    },
    {
      "cell_type": "markdown",
      "metadata": {
        "id": "b4s1DDKI6V6o"
      },
      "source": [
        "Efficiency requires that the marginal rates of technical substitutions (MRTS) be equalized across sectors (and across firms within a sector which is being assumed here). In an Edgeworth box, isoquants from each sector will be tanget to a common wage-rental ratio line.  \n",
        "\n",
        "If we assume Cobb-Douglas forms $F(K,L) = K^\\alpha L^{1-\\alpha}$ and $G(K,L) = K^\\beta L^{1-\\beta}$ the efficiency condition can be used to find a closed form solution for $K_A$ in terms of $L_A$:\n",
        "\n",
        "$$\\frac{(1-\\alpha)}{\\alpha}\\frac{K_A}{L_A} =\\frac{w}{r} =\\frac{(1-\\beta)}{\\beta}\\frac{\\bar K-K_A}{\\bar L-L_A}$$"
      ]
    },
    {
      "cell_type": "markdown",
      "metadata": {
        "id": "F_q_hD0h6V6o"
      },
      "source": [
        "Rearranging the expression above we can get a closed-form expression for the efficiency locus $K_A (L_A)$:\n",
        "\n",
        "$$K_A(L_A) = \\frac{L_A \\cdot \\bar K}\n",
        "{ \\frac{\\beta(1-\\alpha)}{\\alpha (1-\\beta)} (\\bar L -L_A)+L_A}$$\n",
        "\n",
        "With this we can now plot the *efficiency locus* curve in an Edgeworth box."
      ]
    },
    {
      "cell_type": "markdown",
      "metadata": {
        "id": "4_EETh-o6V6p"
      },
      "source": [
        "## Edgeworth Box plots"
      ]
    },
    {
      "cell_type": "markdown",
      "metadata": {
        "id": "_nu97MXq6V6p"
      },
      "source": [
        "Here is and Edgeworth Box depicting the situation where $L_A = 50$ units of labor are allocated to the agricultural sector and all other allocations are efficient (along the efficiency locus)."
      ]
    },
    {
      "cell_type": "code",
      "metadata": {
        "colab": {
          "base_uri": "https://localhost:8080/",
          "height": 429
        },
        "id": "484Fj8fQ6V6p",
        "outputId": "2823421d-73de-4349-816f-3db5fa3ff345"
      },
      "source": [
        "edgeplot(50)"
      ],
      "execution_count": 8,
      "outputs": [
        {
          "output_type": "stream",
          "name": "stdout",
          "text": [
            "(LA,KA)=(50.0, 85.7)  (QA, QM)=(77.0, 30.3)  RTS= 6.9\n"
          ]
        },
        {
          "output_type": "display_data",
          "data": {
            "text/plain": [
              "<Figure size 504x432 with 1 Axes>"
            ],
            "image/png": "[encoded data removed]"
          },
          "metadata": {
            "needs_background": "light"
          }
        }
      ]
    },
    {
      "cell_type": "markdown",
      "metadata": {
        "id": "-LvF_XeO6V6r"
      },
      "source": [
        "If you're reading this using a jupyter server you can interact with the following plot, changing the technology parameters and position of the isoquant. If you are not this may appear blank or static."
      ]
    },
    {
      "cell_type": "markdown",
      "metadata": {
        "id": "WzW-AY-M6V6s"
      },
      "source": [
        "### The Production Possiblity Frontier\n",
        "\n",
        "The **efficiency locus** also allows us to trace out the production possibility frontier: by varying $L_A$ from 0 to $\\bar L$ and, for every $L_A$, calculating $K_A(L_A)$ and with that efficient production $(q_A,q_B)$ where $q_A=F(K_A(L_A), L_A)$ and $q_B=F(\\bar K - K_A(L_A), \\bar L - L_A)$. \n",
        "\n",
        "For Cobb-Douglas technologies the PPF will be quite straight unless $\\beta$ and $\\alpha$ are very different from each other."
      ]
    },
    {
      "cell_type": "code",
      "metadata": {
        "id": "XEgJrljV6V6t",
        "colab": {
          "base_uri": "https://localhost:8080/",
          "height": 402
        },
        "outputId": "c91b7ed8-55b7-467f-bfda-baa31c08b4e9"
      },
      "source": [
        "fig, ax = plt.subplots(figsize=(7,6))\n",
        "ppf(30,alpha =0.8, beta=0.2)"
      ],
      "execution_count": 9,
      "outputs": [
        {
          "output_type": "display_data",
          "data": {
            "text/plain": [
              "<Figure size 504x432 with 1 Axes>"
            ],
            "image/png": "[encoded data removed]"
          },
          "metadata": {
            "needs_background": "light"
          }
        }
      ]
    },
    {
      "cell_type": "markdown",
      "metadata": {
        "id": "wCMxJQFg6V6t"
      },
      "source": [
        "## Efficient resource allocation and comparative advantage in a small open economy"
      ]
    },
    {
      "cell_type": "markdown",
      "metadata": {
        "id": "i2iXDePW6V6t"
      },
      "source": [
        "We have a production possibility frontier which also tells us the opportunity cost of producing different amounts of good $A$ in terms of how much of good B (via its slope or the Rate of Product Transformation (RPT) $\\frac{MC_A}{MC_B}$). This is given by the slope of the PPF. The bowed out shape of the PPF tells us that the opportunity cost of producing either good is rising in its quantity. \n",
        "\n",
        "How much of each good will the economy produce?   If this is a competitive small open economy then product prices will be given by world prices. Each firm maximizes profits which leads every firm in the A sector to increase output until $MC_X(q_a) = P_A$ and similarly in the B sector so that in equlibrium we must have \n",
        "\n",
        "$$\\frac{MC_A}{MC_B} = \\frac{P_A}{P_B}$$\n",
        "\n",
        "and the economy will produce where the slope of the PPF exactly equals the world relative price.  This is where national income valued at world prices is maximized, and the country is producing according to comparative advantage.\n",
        "\n",
        "Consumers take this income as given and maximize utility.  If we make heroic assumptions about preferences (preferences are identical and homothetic) then we can represent consumer preferences on the same diagram and we would have consumers choosing a consumption basket somewhere along the *consumption possibliity frontier* given by the world price line passing thorugh the production point. \n",
        "\n",
        "If the economy is instead assumed to be closed then product prices must be calculated alongside the resource allocation. The PPF itself becomes the economy's budget constraint and we find an optimum (and equlibrium autarky domestic prices) where the community indifference curve is tangent to the PPF."
      ]
    },
    {
      "cell_type": "markdown",
      "metadata": {
        "id": "NQG3Fh4G6V6x"
      },
      "source": [
        "As previously noted, given our linear homogenous production technology, profit maximization in agriculture will lead firms to choose inputs to satisfy $\\frac{(1-\\alpha)}{\\alpha}\\frac{K_A}{L_A} =\\frac{w}{r}$. This implies a relationship between the optimal production technique or capital-labor intensity $\\frac{K_A}{L_A}$ in agriculture and the factor price ratio $\\frac{w}{r}$:\n",
        "\n",
        "$$  \\frac{K_A}{L_A} = \\frac{\\alpha}{1-\\alpha} \\frac{w}{r} $$\n",
        "\n",
        "and similarly in manufacturing\n",
        "\n",
        "$$  \\frac{K_M}{L_M} = \\frac{\\beta}{1-\\beta} \\frac{w}{r} $$"
      ]
    },
    {
      "cell_type": "markdown",
      "metadata": {
        "id": "qtbYgU9U6V6y"
      },
      "source": [
        "From the first order conditions we also have:\n",
        "\n",
        "$$P_A F_L(K_A,L_A) = w = P_M G_L(K_M,L_M) $$"
      ]
    },
    {
      "cell_type": "markdown",
      "metadata": {
        "id": "0k0P_QXW6V6y"
      },
      "source": [
        "Note this condition states that competition has driven firms to price at marginal cost in each industry or $P_A = MC_A = w\\frac{1}{F_L}$ and $P_M = MC_M = w\\frac{1}{G_L}$ which in turn implies that at a market equilibrium optimum \n",
        "\n",
        "$$\\frac{P_A}{P_M} = \\frac{G_L(K_M,L_M)}{F_L(K_A,L_A)}$$\n",
        "\n",
        "This states that the world price line with slope (negative) $\\frac{P_A}{P_M}$ will be tangent to the production possibility frontier which as a slope (negative) $\\frac{MC_A}{MC_M}= \\frac{P_A}{P_M}$ which can also be written as $\\frac{G_L}{F_L}$ or equivalently $\\frac{G_K}{F_K}$. The competitive market leads producers to move resources across sectors to maximize the value of GDP at world prices. "
      ]
    },
    {
      "cell_type": "markdown",
      "metadata": {
        "id": "70-Gm41-6V6z"
      },
      "source": [
        "With the Cobb Douglas technology we can write:\n",
        "\n",
        "$$F_L = (1-\\alpha) \\left [ \\frac{K_A}{L_A} \\right]^\\alpha$$\n",
        "\n",
        "$$G_L = (1-\\beta) \\left [ \\frac{K_M}{L_M} \\right]^\\beta$$"
      ]
    },
    {
      "cell_type": "markdown",
      "metadata": {
        "id": "sCIUT0NR6V62"
      },
      "source": [
        "Using these expressions and the earlier expression relating $\\frac{K_A}{L_A}$ and $\\frac{K_M}{L_M}$ to $\\frac{w}{r}$ we have:"
      ]
    },
    {
      "cell_type": "markdown",
      "metadata": {
        "id": "Xp9SdfDa6V62"
      },
      "source": [
        "$$\\frac{P_A}{P_M} \n",
        "=\\frac{1-\\alpha}{1-\\beta} \n",
        "    \\frac{\\left [ \\frac{ (1-\\beta)}{\\beta} \\frac{w}{r} \\right]^\\beta} \n",
        "    { \\left [ \\frac{ (1-\\alpha)}{\\alpha} \\frac{w}{r} \\right]^\\alpha}\n",
        "$$"
      ]
    },
    {
      "cell_type": "markdown",
      "metadata": {
        "id": "EpIcwqJh6V63"
      },
      "source": [
        "or \n",
        "\n",
        "$$\\frac{P_A}{P_M} = \\Gamma \\left [ \\frac{w}{r}  \\right]^{\\beta - \\alpha}\n",
        "$$\n",
        "where"
      ]
    },
    {
      "cell_type": "markdown",
      "metadata": {
        "id": "CDaCEsL86V63"
      },
      "source": [
        "$$\\Gamma =\n",
        "\\frac{1-\\alpha}{1-\\beta} \n",
        "\\left ( \\frac{\\alpha}{1-\\alpha} \\right )^\\alpha \n",
        "\\left ( \\frac{1-\\beta}{\\beta} \\right )^\\beta \n",
        "$$"
      ]
    },
    {
      "cell_type": "markdown",
      "metadata": {
        "id": "vshsknxj6V63"
      },
      "source": [
        "Solving for $\\frac{w}{r}$ as a function of the world prices we find an expression for the 'Stolper-Samuelson' (SS) line:"
      ]
    },
    {
      "cell_type": "markdown",
      "metadata": {
        "id": "HBeB_PV-6V63"
      },
      "source": [
        "$$\\frac{w}{r} = \\frac{1}{\\Gamma} \\left [  \\frac{P_A}{P_M}   \\right ]^\\frac{1}{\\beta-\\alpha} $$"
      ]
    },
    {
      "cell_type": "markdown",
      "metadata": {
        "id": "AY6r8Fsl6V64"
      },
      "source": [
        "### The Stolper Samuelson Theorem\n",
        "\n",
        "The Stolper Samuelson theorem tells us how changes in the world relative price of products translates into changes in the relative price of factors and therefore in the distribution of income in society.\n",
        "\n",
        "The theorem states that an increase in the relative price of a good will lead to an increase in both the relative and the real price of the factor used intensively in the production of that good (and conversely to a decline in both the real and the relative price of the other factor)."
      ]
    },
    {
      "cell_type": "code",
      "metadata": {
        "id": "TkP36TDG6V64",
        "colab": {
          "base_uri": "https://localhost:8080/",
          "height": 317
        },
        "outputId": "1c684b6b-a3e9-493e-8cee-1b7bfd222675"
      },
      "source": [
        "def wreq(p,a=ALPHA, b=BETA):\n",
        "    B = ((1-a)/(1-b))*(a/(1-a))**a  * ((1-b)/b)**b\n",
        "    return B*p\n",
        "\n",
        "def ssline(a=ALPHA, b=BETA):\n",
        "    p = np.linspace(0.1,10,100)\n",
        "    plt.title('The Stolper-Samuelson line')\n",
        "    plt.xlabel(r'$p = \\frac{P_a}{P_m}$', fontsize=18)\n",
        "    plt.ylabel(r'$ \\frac{w}{r}$', fontsize=18)\n",
        "    plt.plot(p,wreq(p, a, b));\n",
        "\n",
        "ssline(a=0.6, b=0.3);"
      ],
      "execution_count": 10,
      "outputs": [
        {
          "output_type": "display_data",
          "data": {
            "text/plain": [
              "<Figure size 432x288 with 1 Axes>"
            ],
            "image/png": "[encoded data removed]"
          },
          "metadata": {
            "needs_background": "light"
          }
        }
      ]
    },
    {
      "cell_type": "markdown",
      "metadata": {
        "id": "ssh1Goz16V64"
      },
      "source": [
        "This relationship can be seen from the formula.  If agriculture were more labor intensive than manufacturing, so $\\alpha < \\beta$, then an increase in the relative price of agricultural goods creates an incipient excess demand for labor and an excess supply of capital (as firms try to expand production in the now more profitable labor-intensive agricultural sector and cut back production in the now relatively less profitable and capital-intensive manufacturing sector). Equilibrium will only be restored if the equilibrium wage-rental ratio falls which in turn leads firms in both sectors to adopt more capital-intensive techniques.  With more capital per worker in each sector output per worker and hence real wages per worker $\\frac{w}{P_a}$ and $\\frac{w}{P_m}$ increase.  "
      ]
    }
  ]
}
